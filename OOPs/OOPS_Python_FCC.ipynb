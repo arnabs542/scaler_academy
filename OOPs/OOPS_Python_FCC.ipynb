{
 "cells": [
  {
   "cell_type": "code",
   "execution_count": 57,
   "id": "fe2461c1",
   "metadata": {},
   "outputs": [],
   "source": [
    "# Defining a class\n",
    "\n",
    "class Item:\n",
    "    \n",
    "    # Define a class attribute (accessible from the class as well as instances of the class)\n",
    "    pay_rate = 0.8 # Rate after 20 % discount\n",
    "    All = []\n",
    "    \n",
    "    # Define some hard coded attributes for a class\n",
    "    def __init__(self, name: str, price: float, quantity = 0):\n",
    "        \n",
    "        # Ensure correct data types are received\n",
    "        assert type(name) == str, f'Need a string type for name not {name}'\n",
    "        assert price >= 0, f'Price should not be negative, input provided: {price}'\n",
    "        assert quantity >= 0\n",
    "        \n",
    "        # Assign atrributes\n",
    "        self.name = name\n",
    "        self.price = price\n",
    "        self.quantity = quantity\n",
    "        \n",
    "        # Actions\n",
    "        \n",
    "        # Keep track of instances created\n",
    "        Item.All.append(self)\n",
    "        \n",
    "    def calculate_total_price(self):\n",
    "        \n",
    "        return self.price * self.quantity\n",
    "    \n",
    "    def apply_discounts(self):\n",
    "        \n",
    "        # Since pay_rate has not been defined inside __init__, it is taken from the class level attribute\n",
    "        self.price = self.price * self.pay_rate\n",
    "    \n",
    "    def __repr__(self):\n",
    "        return f\"Item('{self.name}', {self.price}, {self.quantity})\"\n",
    "    \n",
    "# # Instances of a class\n",
    "# item1 = Item('Phone', 100, 2)\n",
    "\n",
    "# item2 = Item('Laptop', 4000, 3)\n",
    "\n",
    "# print('Total Price of item1', item1.calculate_total_price())\n",
    "\n",
    "# item1.apply_discounts()\n",
    "\n",
    "# print('Total Price of item1 after discounts', item1.calculate_total_price())\n",
    "\n",
    "# print('Total Price of item1', item2.calculate_total_price())\n",
    "\n",
    "# print(item1.name)\n",
    "# print(item1.price)\n",
    "# print(item1.quantity)\n",
    "# print()\n",
    "# print(item2.name)\n",
    "# print(item2.price)\n",
    "# print(item2.quantity)\n",
    "\n",
    "# # print(Item.__dict__)\n",
    "# # print()\n",
    "# print(item1.__dict__)\n",
    "\n",
    "\n",
    "item1 = Item(\"Phone\", 100, 1)\n",
    "item2 = Item(\"Laptop\", 1000, 3)\n",
    "item3 = Item(\"Cable\", 10, 5)\n",
    "item4 = Item(\"Mouse\", 50, 5)\n",
    "item5 = Item(\"Keyboard\", 75, 5)"
   ]
  },
  {
   "cell_type": "code",
   "execution_count": 59,
   "id": "680c2e8a",
   "metadata": {},
   "outputs": [
    {
     "name": "stdout",
     "output_type": "stream",
     "text": [
      "[Item('Phone', 100, 1), Item('Laptop', 1000, 3), Item('Cable', 10, 5), Item('Mouse', 50, 5), Item('Keyboard', 75, 5)]\n"
     ]
    }
   ],
   "source": [
    "print(Item.All)\n",
    "\n",
    "# for instance in Item.All:\n",
    "#     print(instance.name)"
   ]
  },
  {
   "cell_type": "code",
   "execution_count": null,
   "id": "73cec31f",
   "metadata": {},
   "outputs": [],
   "source": []
  }
 ],
 "metadata": {
  "kernelspec": {
   "display_name": "Python 3",
   "language": "python",
   "name": "python3"
  },
  "language_info": {
   "codemirror_mode": {
    "name": "ipython",
    "version": 3
   },
   "file_extension": ".py",
   "mimetype": "text/x-python",
   "name": "python",
   "nbconvert_exporter": "python",
   "pygments_lexer": "ipython3",
   "version": "3.8.2"
  }
 },
 "nbformat": 4,
 "nbformat_minor": 5
}
